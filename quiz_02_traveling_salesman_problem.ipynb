{
  "nbformat": 4,
  "nbformat_minor": 0,
  "metadata": {
    "colab": {
      "provenance": [],
      "toc_visible": true,
      "authorship_tag": "ABX9TyO71ZeyTRWgNK8hU0Gnor3s",
      "include_colab_link": true
    },
    "kernelspec": {
      "name": "python3",
      "display_name": "Python 3"
    },
    "language_info": {
      "name": "python"
    }
  },
  "cells": [
    {
      "cell_type": "markdown",
      "metadata": {
        "id": "view-in-github",
        "colab_type": "text"
      },
      "source": [
        "<a href=\"https://colab.research.google.com/github/taianers/inteligencia-artificial-gcc128/blob/master/quiz_02_traveling_salesman_problem.ipynb\" target=\"_parent\"><img src=\"https://colab.research.google.com/assets/colab-badge.svg\" alt=\"Open In Colab\"/></a>"
      ]
    },
    {
      "cell_type": "markdown",
      "source": [
        "# Quiz 02 - Problema do Caixeiro Viajante (Traveling Salesman Problem - TSP) utilizando Algoritmos Genéticos\n",
        "\n",
        "**GCC 128 - Inteligência Artificial**\n",
        "\n",
        "Profº Eric Fernandes de Mello Araújo\n",
        "\n",
        "Nome: Taiane Rodrigues de Sousa"
      ],
      "metadata": {
        "id": "d80rScDHydCj"
      }
    },
    {
      "cell_type": "markdown",
      "source": [
        "## Objetivo\n",
        "\n",
        "O objetivo desta tarefa é implementar um algoritmo genético para resolver o Problema do\n",
        "Caixeiro Viajante (TSP). O algoritmo genético irá otimizar a ordem em que um vendedor\n",
        "visita um conjunto de cidades, buscando encontrar a rota mais curta possível."
      ],
      "metadata": {
        "id": "iPlvHjiny__j"
      }
    },
    {
      "cell_type": "markdown",
      "source": [
        "## Descrição do problema\n",
        "\n",
        "Você recebe um conjunto de cidades e suas respectivas coordenadas em um plano\n",
        "bidimensional. A tarefa é encontrar a rota mais curta possível que visite cada cidade\n",
        "exatamente uma vez e retorne à cidade de origem. Esse problema é conhecido como\n",
        "Problema do Caixeiro Viajante (TSP)."
      ],
      "metadata": {
        "id": "RaPqH_TSzMoM"
      }
    },
    {
      "cell_type": "markdown",
      "source": [
        "### Sobre a solução\n",
        "\n",
        "É utilizada uma abordagem evolutiva, onde o objetivo é encontrar a rota mais curta que visita todas as cidades exatamente uma vez, minimizando a distância total percorrida.\n",
        "\n",
        "1. O algoritmo começa criando uma população inicial de rotas aleatórias, representadas por permutações das cidades;\n",
        "2. A população evolui através de várias gerações usando seleção por torneio, cruzamento e mutação;\n",
        "3. A seleção por torneio escolhe as rotas mais aptas com base em sua distância total percorrida;\n",
        "4. O cruzamento combina seguimentos de duas rotas parentais para criar rotas descendentes;\n",
        "5. A mutação introduz pequenas alterações aleatórias nas rotas descendentes;\n",
        "6. O algoritmo mantém o controle da melhor rota encontrada e sua distância durante as gerações;\n",
        "7. Os parâmetros tamanho da população, número de gerações, taxa de cruzamento e taxa de mutação, podem ser ajustados para influenciar o comportamento e a eficácia do algoritmo (os parâmetros serão gerados de maneira aleatória para facilitar a análise a cada execução)\n",
        "8. Os resultados finais exibem a melhor distância encontrada, a geração em que foi encontrada e a ordem das cidades na melhor rota.\n",
        "\n"
      ],
      "metadata": {
        "id": "4-Ku8INvz4rS"
      }
    },
    {
      "cell_type": "markdown",
      "source": [
        "#### Importações necessárias\n",
        "\n",
        "- random é utlizada para gerar números aleatórios;\n",
        "- math é utilizada para realizar operações matemáticas."
      ],
      "metadata": {
        "id": "lJqCwb81zhr_"
      }
    },
    {
      "cell_type": "code",
      "execution_count": 46,
      "metadata": {
        "id": "_dkIRMdZfy32"
      },
      "outputs": [],
      "source": [
        "import random\n",
        "import math"
      ]
    },
    {
      "cell_type": "markdown",
      "source": [
        "#### Classes Cidade e Rota\n",
        "\n",
        "A classe `Cidade` representa a instância de uma cidade com coordenadas bidimencionais (x,y). Dentro dela foi criada uma função `calcula_distancia()` utilizando a fórmula da distância euclidiana entre dois pontos no plano cartesiano. Ela é utilizada para construir e avaliar as rotas entre as cidades.\n",
        "\n",
        "E a classe `Rota` representa uma sequência de cidades onde a mesma calcula a distância total percorrida pela rota visitando cada cidade na ordem estabelecida. A função `calcula_distância()` é responsável por percorrer a lista de cidades e calcular a distância entre cada cidade e a próxima cidade na rota. Em geral, ela representa e avalia as rotas geradas."
      ],
      "metadata": {
        "id": "uVyBjWs4s-ns"
      }
    },
    {
      "cell_type": "code",
      "source": [
        "class Cidade:\n",
        "  def __init__(self, coord_x, coord_y):\n",
        "    self.coord_x = coord_x\n",
        "    self.coord_y = coord_y\n",
        "\n",
        "  def calcula_distancia(self, cidade):\n",
        "    dist_x = abs(self.coord_x - cidade.coord_x)\n",
        "    dist_y = abs(self.coord_y - cidade.coord_y)\n",
        "    dist = math.sqrt((dist_x ** 2) + (dist_y ** 2))\n",
        "    return dist"
      ],
      "metadata": {
        "id": "CLSF9tVXhcbA"
      },
      "execution_count": 47,
      "outputs": []
    },
    {
      "cell_type": "code",
      "source": [
        "class Rota:\n",
        "  def __init__(self, cidades):\n",
        "    self.cidades = cidades\n",
        "    self.dist = self.calcula_distancia()\n",
        "\n",
        "  def calcula_distancia(self):\n",
        "    dist_total = 0\n",
        "    num_cidades = len(self.cidades)\n",
        "    for i in range(num_cidades):\n",
        "      cidade_atual = self.cidades[i]\n",
        "      prox_cidade = self.cidades[(i + 1) % num_cidades]\n",
        "      dist_total += cidade_atual.calcula_distancia(prox_cidade)\n",
        "    return dist_total"
      ],
      "metadata": {
        "id": "zy8lDwbMiuF8"
      },
      "execution_count": 48,
      "outputs": []
    },
    {
      "cell_type": "markdown",
      "source": [
        "#### Função que gera rota aleatória\n",
        "\n",
        "É responsável por gerar uma rota inicial de maneira aleatória, embaralhando a ordem das cidades. Ela utilizada na criação da população inicial garantindo a diversidade nas soluções iniciais e exploração de regiões do espaço de busca."
      ],
      "metadata": {
        "id": "7SD6i2gpxE-Y"
      }
    },
    {
      "cell_type": "code",
      "source": [
        "def gera_rota_aleatoria(cidades):\n",
        "  rota = Rota(cidades)\n",
        "  random.shuffle(rota.cidades)\n",
        "  return rota"
      ],
      "metadata": {
        "id": "SlRwPa3nju2V"
      },
      "execution_count": 49,
      "outputs": []
    },
    {
      "cell_type": "markdown",
      "source": [
        "#### Funçao de seleção por torneio\n",
        "\n",
        "Ela realiza a seleção de indivíduos mais aptos (rotas) selecionando aleatoriamente um grupo de rotas e escolhe a rota com a menor distância vencedora, ou seja, ela seleciona as rotas que serão usadas na próxima geração com base no seu desempenho. Essa estratégia permite que rotas menos aptas também tenham uma chance de serem selecionadas, auxiliando a manter a diversidade genética na população."
      ],
      "metadata": {
        "id": "iLiYolSmx0Um"
      }
    },
    {
      "cell_type": "code",
      "source": [
        "def selecao_torneio(populacao, tam_torneio):\n",
        "  rotas_selecionadas = []\n",
        "  for _ in range(len(populacao)):\n",
        "    torneio = random.sample(populacao, tam_torneio)\n",
        "    vencedor = min(torneio, key=lambda rota: rota.dist) # seleciona a rota vencedora com base na distância mínima\n",
        "    rotas_selecionadas.append(vencedor)\n",
        "  return rotas_selecionadas"
      ],
      "metadata": {
        "id": "f-kl4F1FkA6m"
      },
      "execution_count": 50,
      "outputs": []
    },
    {
      "cell_type": "markdown",
      "source": [
        "#### Função de cruzamento (crossover)\n",
        "\n",
        "Realiza o cruzamento entre duas rotas parentais para criar rotas descendentes. O processo é feito combinando segmentos das rotas parentais. Um ponto de corte é escolhido aleatoriamente e os segmentos são trocados entre as rotas para criar os descendentes."
      ],
      "metadata": {
        "id": "KdZznyi5zRwd"
      }
    },
    {
      "cell_type": "code",
      "source": [
        "def cruzamento(pai1, pai2):\n",
        "  num_cidades = len(pai1.cidades)\n",
        "  inicio = random.randint(0, num_cidades - 1)\n",
        "  fim = random.randint(inicio + 1, num_cidades)\n",
        "\n",
        "  cidades_filha = [None] * num_cidades # cria lista vazia para as cidades da rota filha\n",
        "  for i in range(inicio, fim):\n",
        "    cidades_filha[i] = pai1.cidades[i] # copia o segmento do pai1 para a rota filha\n",
        "\n",
        "  cidades_restantes = [cidade for cidade in pai2.cidades if cidade not in cidades_filha] # obtém as cidades restantes do pai2 que ainda não estão na rota filha\n",
        "  restante = 0\n",
        "  for i in range(num_cidades):\n",
        "    if cidades_filha[i] is None:\n",
        "        cidades_filha[i] = cidades_restantes[restante] # preenche as posições vazias da rota filha com as cidades restantes do pai2\n",
        "        restante += 1\n",
        "\n",
        "  filha = Rota(cidades_filha)\n",
        "  return filha"
      ],
      "metadata": {
        "id": "y4vZJqeMlzNV"
      },
      "execution_count": 51,
      "outputs": []
    },
    {
      "cell_type": "markdown",
      "source": [
        "#### Função de mutação\n",
        "\n",
        "Introduz pequenas alterações aleatórias na ordem das cidades dentro de uma rota, trocando aleatoriamente a posição de duas cidades na mesma. Após a troca das cidades, a função `calcula_distancia()` da classe `Rota` é chamada para atualizar a distância total. A mutação serve para evitar que o algoritmo fique preso em mínimos locais, permitindo a busca por soluções melhores."
      ],
      "metadata": {
        "id": "cvcEO8W_1AQa"
      }
    },
    {
      "cell_type": "code",
      "source": [
        "def mutacao(rota, taxa):\n",
        "  if random.random() < taxa:\n",
        "    num_cidades = len(rota.cidades)\n",
        "    indice1 = random.randint(0, num_cidades - 1)\n",
        "    indice2 = random.randint(0, num_cidades - 1)\n",
        "    rota.cidades[indice1], rota.cidades[indice2] = rota.cidades[indice2], rota.cidades[indice1]\n",
        "    rota.dist = rota.calcula_distancia()"
      ],
      "metadata": {
        "id": "kRpyRxxfniCr"
      },
      "execution_count": 52,
      "outputs": []
    },
    {
      "cell_type": "markdown",
      "source": [
        "#### Função de aptidao (Fitness function)\n",
        "\n",
        "Ela calcula a distância total de uma rota, levando em consideração a distância entre a última cidade e a cidade de origem. Utilizada para avaliar a qualidade das rotas identificando as que possuem menor distância e com maior probabilidade de serem selecionadas."
      ],
      "metadata": {
        "id": "1X3oZBgb3asA"
      }
    },
    {
      "cell_type": "code",
      "source": [
        "def aptidao(rota):\n",
        "  dist_total = rota.dist\n",
        "  dist_origem = rota.cidades[-1].calcula_distancia(rota.cidades[0])\n",
        "  dist_total += dist_origem\n",
        "\n",
        "  return dist_total"
      ],
      "metadata": {
        "id": "qB341T59oHBw"
      },
      "execution_count": 53,
      "outputs": []
    },
    {
      "cell_type": "markdown",
      "source": [
        "#### Função do algoritmo genérico (principal)\n",
        "\n",
        "Ela recebe os parâmetros do problema, como a lista de cidades, o tamanho da população, o número de gerações, as taxas de cruzamento e mutação, e executa as etapas do algoritmo em um loop. A cada geração, são realizadas a seleção por torneio, o cruzamento, a mutação e a substituição da população anterior pela nova geração. A melhor rota é atualizada se uma rota com uma distância menor for encontrada.\n",
        "\n"
      ],
      "metadata": {
        "id": "nE62UAoP4sx3"
      }
    },
    {
      "cell_type": "code",
      "source": [
        "def algoritmo_generico(cidades, tam_populacao, num_geracoes, tam_torneio, taxa_cruzamento, taxa_mutacao):\n",
        "  # criação da população inicial de maneira aleatória\n",
        "  populacao = [gera_rota_aleatoria(cidades) for _ in range(tam_populacao)]\n",
        "\n",
        "  # variáveis para acompanhar o progresso da melhor distância e melhor geração\n",
        "  melhor_dist = float('inf') # valor infinito\n",
        "  melhor_geracao = 0\n",
        "\n",
        "  print(\"Análise dos Resultados:\")\n",
        "  for geracao in range(num_geracoes):\n",
        "    # seleciona as rotas mais aptas (com menor distância) da população atual\n",
        "    rotas_selecionadas = selecao_torneio(populacao, tam_torneio)\n",
        "\n",
        "    # criação de novas rotas descendentes combinando segmentos de rotas parentais\n",
        "    descendentes = []\n",
        "    for i in range(0, len(rotas_selecionadas), 2):\n",
        "      pai1 = rotas_selecionadas[i]\n",
        "      pai2 = rotas_selecionadas[i + 1] if i + 1 < len(rotas_selecionadas) else rotas_selecionadas[0]\n",
        "      filha1 = cruzamento(pai1, pai2)\n",
        "      filha2 = cruzamento(pai2, pai1)\n",
        "      descendentes.extend([filha1, filha2])\n",
        "\n",
        "    # gera pequenas alterações aletaórias na ordem das cidades dentro das rotas da população descendente de acordo a taxa de mutação\n",
        "    for rota in descendentes:\n",
        "        mutacao(rota, taxa_mutacao)\n",
        "\n",
        "    # a população atual é substituída pela nova geração de rotas descendentes\n",
        "    populacao = descendentes\n",
        "\n",
        "    # verifica a melhor distância, se a atual for menor que a melhor encontrada até o momento, é atualizada como melhor juntamente com o valor da melhor geração\n",
        "    melhor_rota = min(populacao, key=aptidao)\n",
        "    melhor_dist_atual = aptidao(melhor_rota)\n",
        "    if melhor_dist_atual < melhor_dist:\n",
        "      melhor_dist = melhor_dist_atual\n",
        "      melhor_geracao = geracao + 1\n",
        "\n",
        "  # imprime os resultados\n",
        "  print(f\"\\nMelhor distância: {melhor_dist}\")\n",
        "  print(f\"Geração em que foi encontrada: {melhor_geracao}\")\n",
        "  print(\"\\nMelhor rota:\")\n",
        "  for cidade in melhor_rota.cidades:\n",
        "      print(f\"Cidade ({cidade.coord_x}, {cidade.coord_y})\")\n",
        "\n",
        "  return melhor_rota\n",
        "\n",
        "# exemplo de representação de cidades\n",
        "cidades = [\n",
        "    Cidade(0, 0),\n",
        "    Cidade(1, 5),\n",
        "    Cidade(5, 2),\n",
        "    Cidade(8, 3),\n",
        "    Cidade(6, 8)\n",
        "]\n",
        "\n",
        "# parâmetros gerados modo aleatório\n",
        "tam_populacao = random.randint(50, 200)\n",
        "num_geracoes = random.randint(500, 2000)\n",
        "tam_torneio = random.randint(2, 10)\n",
        "taxa_cruzamento = random.uniform(0.6, 1.0)\n",
        "taxa_mutacao = random.uniform(0.01, 0.1)\n",
        "\n",
        "print(\"Valores dos parâmetros:\\n\")\n",
        "print(f\"Tamanho da população: {tam_populacao}\")\n",
        "print(f\"Número de gerações: {num_geracoes}\")\n",
        "print(f\"Tamanho do torneio: {tam_torneio}\")\n",
        "print(f\"Taxa de cruzamento: {taxa_cruzamento}\")\n",
        "print(f\"Taxa de mutação: {taxa_mutacao}\\n\")\n",
        "\n",
        "melhor_rota = algoritmo_generico(cidades, tam_populacao, num_geracoes, tam_torneio, taxa_cruzamento, taxa_mutacao)\n",
        "\n",
        "print(\"\\nDistância da melhor rota:\", aptidao(melhor_rota))"
      ],
      "metadata": {
        "colab": {
          "base_uri": "https://localhost:8080/"
        },
        "id": "kX2Qgzbgolc1",
        "outputId": "9a5f25a7-d732-4b67-c157-9b522f9cbef5"
      },
      "execution_count": 54,
      "outputs": [
        {
          "output_type": "stream",
          "name": "stdout",
          "text": [
            "Valores dos parâmetros:\n",
            "\n",
            "Tamanho da população: 68\n",
            "Número de gerações: 1486\n",
            "Tamanho do torneio: 2\n",
            "Taxa de cruzamento: 0.6773322127622738\n",
            "Taxa de mutação: 0.07451878558810995\n",
            "\n",
            "Análise dos Resultados:\n",
            "\n",
            "Melhor distância: 28.024856343043847\n",
            "Geração em que foi encontrada: 6\n",
            "\n",
            "Melhor rota:\n",
            "Cidade (6, 8)\n",
            "Cidade (1, 5)\n",
            "Cidade (0, 0)\n",
            "Cidade (5, 2)\n",
            "Cidade (8, 3)\n",
            "\n",
            "Distância da melhor rota: 30.247743490009977\n"
          ]
        }
      ]
    },
    {
      "cell_type": "markdown",
      "source": [
        "#### Discussões\n",
        "\n",
        "- Eficácia:\n",
        "  - Para 5 execuções, foi possível analisar que o algoritmo foi eficaz em encontrar soluções próximas ou iguais a melhor solução da distância mínima para o problema do caixeiro viajante. Cada resultado mostrou uma rota com uma distância relativamente próxima à melhor distância possível de acordo a variação dos parâmetros.\n",
        "\n",
        "- Convergência:\n",
        "  - Nas 5 execuções, é observado que o algoritmo genérico demonstrou um comportamento de convergência rápido e eficiente para encontrar soluções de alta qualidade para o problema. Em maior parte dos casos a melhor solução foi encontrada entre as primeiras gerações, indicando uma rápida convergência para soluções ótimas ou quase ótimas.\n",
        "\n",
        "Em geral, podemos perceber que o comportamento pode variar dependendo dos valores dos parâmetros.\n",
        "\n",
        "- Resultados utilizados para análise, abaixo:\n",
        "\n",
        "```\n",
        "- Resultado 1:\n",
        "Valores dos parâmetros:\n",
        "\n",
        "Tamanho da população: 181\n",
        "Número de gerações: 922\n",
        "Tamanho do torneio: 7\n",
        "Taxa de cruzamento: 0.9243344057993589\n",
        "Taxa de mutação: 0.042562170499659026\n",
        "\n",
        "Análise dos Resultados:\n",
        "\n",
        "Melhor distância: 28.024856343043847\n",
        "Geração em que foi encontrada: 2\n",
        "\n",
        "Melhor rota:\n",
        "Cidade (5, 2)\n",
        "Cidade (0, 0)\n",
        "Cidade (1, 5)\n",
        "Cidade (6, 8)\n",
        "Cidade (8, 3)\n",
        "\n",
        "Distância da melhor rota: 28.024856343043847\n",
        "\n",
        "- Resultado 2:\n",
        "Valores dos parâmetros:\n",
        "\n",
        "Tamanho da população: 200\n",
        "Número de gerações: 1223\n",
        "Tamanho do torneio: 9\n",
        "Taxa de cruzamento: 0.9483597356838618\n",
        "Taxa de mutação: 0.022604530627940038\n",
        "\n",
        "Análise dos Resultados:\n",
        "\n",
        "Melhor distância: 30.69353057772077\n",
        "Geração em que foi encontrada: 1\n",
        "\n",
        "Melhor rota:\n",
        "Cidade (1, 5)\n",
        "Cidade (0, 0)\n",
        "Cidade (5, 2)\n",
        "Cidade (8, 3)\n",
        "Cidade (6, 8)\n",
        "\n",
        "Distância da melhor rota: 30.69353057772077\n",
        "\n",
        "- Resultado 3:\n",
        "Valores dos parâmetros:\n",
        "\n",
        "Tamanho da população: 147\n",
        "Número de gerações: 982\n",
        "Tamanho do torneio: 4\n",
        "Taxa de cruzamento: 0.775944852815273\n",
        "Taxa de mutação: 0.08896397695649186\n",
        "\n",
        "Análise dos Resultados:\n",
        "\n",
        "Melhor distância: 29.96159819646826\n",
        "Geração em que foi encontrada: 1\n",
        "\n",
        "Melhor rota:\n",
        "Cidade (5, 2)\n",
        "Cidade (8, 3)\n",
        "Cidade (6, 8)\n",
        "Cidade (1, 5)\n",
        "Cidade (0, 0)\n",
        "\n",
        "Distância da melhor rota: 30.247743490009977\n",
        "\n",
        "- Resultado 4:\n",
        "Valores dos parâmetros:\n",
        "\n",
        "Tamanho da população: 90\n",
        "Número de gerações: 1005\n",
        "Tamanho do torneio: 5\n",
        "Taxa de cruzamento: 0.9430867966688379\n",
        "Taxa de mutação: 0.06710494850504752\n",
        "\n",
        "Análise dos Resultados:\n",
        "\n",
        "Melhor distância: 28.024856343043847\n",
        "Geração em que foi encontrada: 3\n",
        "\n",
        "Melhor rota:\n",
        "Cidade (5, 2)\n",
        "Cidade (0, 0)\n",
        "Cidade (1, 5)\n",
        "Cidade (6, 8)\n",
        "Cidade (8, 3)\n",
        "\n",
        "Distância da melhor rota: 28.024856343043847\n",
        "\n",
        "- Resultado 5:\n",
        "\n",
        "Valores dos parâmetros:\n",
        "\n",
        "Tamanho da população: 104\n",
        "Número de gerações: 1618\n",
        "Tamanho do torneio: 4\n",
        "Taxa de cruzamento: 0.9801068473233547\n",
        "Taxa de mutação: 0.03405363063167091\n",
        "\n",
        "Análise dos Resultados:\n",
        "\n",
        "Melhor distância: 28.024856343043847\n",
        "Geração em que foi encontrada: 11\n",
        "\n",
        "Melhor rota:\n",
        "Cidade (8, 3)\n",
        "Cidade (6, 8)\n",
        "Cidade (1, 5)\n",
        "Cidade (0, 0)\n",
        "Cidade (5, 2)\n",
        "\n",
        "Distância da melhor rota: 28.024856343043847\n",
        "```\n",
        "\n"
      ],
      "metadata": {
        "id": "daD2pcVm0ioi"
      }
    }
  ]
}